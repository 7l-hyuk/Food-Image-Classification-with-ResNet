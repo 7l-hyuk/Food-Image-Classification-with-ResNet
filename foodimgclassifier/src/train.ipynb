{
 "cells": [
  {
   "cell_type": "markdown",
   "metadata": {},
   "source": [
    "## 모델 훈련"
   ]
  },
  {
   "cell_type": "markdown",
   "metadata": {},
   "source": [
    "## 1. 모듈 불러오기"
   ]
  },
  {
   "cell_type": "code",
   "execution_count": null,
   "metadata": {},
   "outputs": [],
   "source": [
    "import torch\n",
    "from models.preprocess import train_loader, test_loader\n",
    "from models.optimizers import (\n",
    "    criterion, \n",
    "    shallow_optimizer, \n",
    "    deep5_optimizer, \n",
    "    deep10_optimizer,\n",
    "    skipcondeep10_optimizer,\n",
    "    resnet18_optimizer,\n",
    "    shallownet,\n",
    "    deepnet5,\n",
    "    deepnet10,\n",
    "    skipcondeep10,\n",
    "    resnet18\n",
    ")\n",
    "\n",
    "device = torch.device(\"cuda\" if torch.cuda.is_available() else \"cpu\")"
   ]
  },
  {
   "cell_type": "markdown",
   "metadata": {},
   "source": [
    "## 2. 모델 평가를 위한 변수 설정"
   ]
  },
  {
   "cell_type": "code",
   "execution_count": null,
   "metadata": {},
   "outputs": [],
   "source": [
    "MODELNAME = [\n",
    "    \"ShallowNet\", \n",
    "    \"DeepNet5\", \n",
    "    \"DeepNet10\", \n",
    "    \"SkipConnectedDeep10\",\n",
    "    \"ResNet18\"\n",
    "    ]\n",
    "\n",
    "Models = [\n",
    "    shallownet, \n",
    "    deepnet5, \n",
    "    deepnet10, \n",
    "    skipcondeep10,\n",
    "    resnet18\n",
    "    ]\n",
    "\n",
    "Optimizer = [\n",
    "    shallow_optimizer, \n",
    "    deep5_optimizer, \n",
    "    deep10_optimizer, \n",
    "    skipcondeep10_optimizer,\n",
    "    resnet18_optimizer\n",
    "    ]\n",
    "\n",
    "Trainerror = [\n",
    "    shallow_train_loss:=list(), \n",
    "    deep5_train_loss:=list(), \n",
    "    deep10_train_loss:=list(), \n",
    "    skipcondeep10_train_loss:=list(),\n",
    "    resnet18_train_loss:=list()\n",
    "    ]\n",
    "\n",
    "Testerror = [\n",
    "    shallow_test_loss:=list(), \n",
    "    deep5_test_loss:=list(), \n",
    "    deep10_test_loss:=list(), \n",
    "    skipcondeep10_test_loss:=list(),\n",
    "    resnet18_test_loss:=list()\n",
    "    ]\n",
    "\n",
    "Accuracy = [\n",
    "    shallow_accuracy:=list(), \n",
    "    deep5_accuracy:=list(), \n",
    "    deep10_accuracy:=list(), \n",
    "    skipcondeep10_accuracy:=list(),\n",
    "    resnet18_accuracy:=list()\n",
    "    ]"
   ]
  },
  {
   "cell_type": "markdown",
   "metadata": {},
   "source": [
    "## 3. 모델 훈련"
   ]
  },
  {
   "cell_type": "code",
   "execution_count": null,
   "metadata": {},
   "outputs": [],
   "source": [
    "def main():\n",
    "    for idx in range(len(Models)):\n",
    "        epochs = 30\n",
    "        model = Models[idx].to(device)\n",
    "        optimizer = Optimizer[idx]\n",
    "        model_train_loss = Trainerror[idx]\n",
    "        model_test_loss = Testerror[idx]\n",
    "        model_accuracy = Accuracy[idx]\n",
    "\n",
    "        print(f\"\\n{MODELNAME[idx]} Model Training\\n-------------------------------------------\")\n",
    "\n",
    "        for epoch in range(epochs):  \n",
    "            model.train()\n",
    "            running_loss = 0.0\n",
    "            for i, data in enumerate(train_loader, 0):\n",
    "                inputs, labels = data\n",
    "                inputs = inputs.to(device)\n",
    "                labels = labels.to(device)\n",
    "                optimizer.zero_grad()\n",
    "                outputs = model(inputs)\n",
    "                loss = criterion(outputs, labels)\n",
    "                loss.backward()\n",
    "                optimizer.step()\n",
    "                running_loss += loss.item()\n",
    "\n",
    "            print(f'[{epoch + 1}, {i + 1:5d}] loss: {running_loss / (i+1):.3f}')\n",
    "\n",
    "            model_train_loss.append(running_loss / (i+1))\n",
    "            running_loss = 0.0\n",
    "\n",
    "            model.eval()\n",
    "            correct, total = 0, 0\n",
    "            \n",
    "            with torch.no_grad():\n",
    "                for i, data in enumerate(test_loader, 0):\n",
    "                    images, labels = data\n",
    "                    inputs = inputs.to(device)\n",
    "                    labels = labels.to(device)\n",
    "                    outputs = model(images)\n",
    "                    loss = criterion(outputs, labels)\n",
    "                    _, predicted = torch.max(outputs.data, 1)\n",
    "\n",
    "                    total += labels.size(0)\n",
    "                    correct += (predicted == labels).sum().item()\n",
    "                    running_loss += loss.item()\n",
    "\n",
    "                model_test_loss.append(running_loss / (i+1))\n",
    "                model_accuracy.append(100 * correct // total)"
   ]
  },
  {
   "cell_type": "code",
   "execution_count": null,
   "metadata": {},
   "outputs": [],
   "source": [
    "main()"
   ]
  },
  {
   "cell_type": "markdown",
   "metadata": {},
   "source": [
    "## 4. 모델 저장"
   ]
  },
  {
   "cell_type": "code",
   "execution_count": null,
   "metadata": {},
   "outputs": [],
   "source": [
    "for i in range(len(Models)):\n",
    "    PATH = f'./{MODELNAME[i]}.pth'\n",
    "    torch.save(Models[i].state_dict(), PATH)"
   ]
  },
  {
   "cell_type": "code",
   "execution_count": null,
   "metadata": {},
   "outputs": [],
   "source": [
    "# 이전에 학습했던 오차, 정확도를 불러옵니다.\n",
    "li = []\n",
    "\n",
    "with open(\"model_output.txt\", \"r\") as file:\n",
    "    for fi in file:\n",
    "        ll = [float(name.strip()) for name in fi.split(\",\")]\n",
    "        li.append(ll)\n",
    "\n",
    "for i in range(4):\n",
    "    Trainerror[i] += li[3*i]\n",
    "    Testerror[i] += li[3*i+1]\n",
    "    Accuracy[i] += li[3*i+2]"
   ]
  },
  {
   "cell_type": "markdown",
   "metadata": {},
   "source": [
    "## 5. 그래프 작성"
   ]
  },
  {
   "cell_type": "code",
   "execution_count": null,
   "metadata": {},
   "outputs": [],
   "source": [
    "import matplotlib.pyplot as plt\n",
    "import plotly.graph_objects as go\n",
    "\n",
    "epoch_list = [i+1 for i in range(len(shallow_train_loss))]\n",
    "y_list = [Trainerror, Testerror, Accuracy]\n",
    "title_list = [\"Training Error\", \"Test Error\", \"Test Accuracy\"]\n",
    "ylabel_list = [\"training error\", \"test Error\", \"accuracy\"]"
   ]
  },
  {
   "cell_type": "code",
   "execution_count": null,
   "metadata": {},
   "outputs": [],
   "source": [
    "for i in range(len(y_list)):\n",
    "    y = y_list[i]\n",
    "    title = title_list[i]\n",
    "    ylabel = ylabel_list[i]\n",
    "\n",
    "    plt.figure(i+1)\n",
    "    #for j in range(len(Model)):\n",
    "    for j in range(4):\n",
    "        plt.plot(\n",
    "            epoch_list, \n",
    "            y[j], \n",
    "            label=MODELNAME[j]\n",
    "            )\n",
    "\n",
    "        plt.title(title) \n",
    "        plt.xlabel(\"Epoch\") \n",
    "        plt.ylabel(ylabel)\n",
    "        plt.legend()"
   ]
  },
  {
   "cell_type": "code",
   "execution_count": null,
   "metadata": {},
   "outputs": [],
   "source": [
    "fig = go.Figure()\n",
    "\n",
    "for i in range(len(Models)):\n",
    "    fig.add_trace(go.Scatter(\n",
    "        x=epoch_list, \n",
    "        y=Trainerror[i],\n",
    "        mode='lines',\n",
    "        name=MODELNAME[i]\n",
    "        ))\n",
    "\n",
    "fig.update_layout(title_text=\"Training Error\")\n",
    "fig.update_xaxes(title_text='Epoch')\n",
    "fig.update_yaxes(title_text='Training Error')"
   ]
  },
  {
   "cell_type": "code",
   "execution_count": null,
   "metadata": {},
   "outputs": [],
   "source": [
    "fig = go.Figure()\n",
    "\n",
    "for i in range(len(Models)):\n",
    "    fig.add_trace(go.Scatter(\n",
    "        x=epoch_list, \n",
    "        y=Testerror[i],\n",
    "        mode='lines',\n",
    "        name=MODELNAME[i]\n",
    "        ))\n",
    "\n",
    "fig.update_layout(title_text=\"Test Error\")\n",
    "fig.update_xaxes(title_text='epoch')\n",
    "fig.update_yaxes(title_text='test error')"
   ]
  },
  {
   "cell_type": "code",
   "execution_count": null,
   "metadata": {},
   "outputs": [],
   "source": [
    "fig = go.Figure()\n",
    "\n",
    "for i in range(len(Models)):\n",
    "    fig.add_trace(go.Scatter(\n",
    "        x=epoch_list, \n",
    "        y=Accuracy[i],\n",
    "        mode='lines',\n",
    "        name=MODELNAME[i]\n",
    "        ))\n",
    "\n",
    "fig.update_layout(title_text=\"Accuracy\")\n",
    "fig.update_xaxes(title_text='epoch')\n",
    "fig.update_yaxes(title_text='accuracy')"
   ]
  },
  {
   "cell_type": "markdown",
   "metadata": {},
   "source": [
    "## 6. 모델 학습 결과 요약"
   ]
  },
  {
   "cell_type": "code",
   "execution_count": null,
   "metadata": {},
   "outputs": [],
   "source": [
    "print(\"_______________________________ S U M M A R Y ________________________________\")\n",
    "for i in range(len(Models)):\n",
    "    min_loss_index, min_loss = Testerror[i].index(min(Testerror[i])), min(Testerror[i])\n",
    "    max_accuracy_index, max_accuracy = Accuracy[i].index(max(Accuracy[i])), max(Accuracy[i]) \n",
    "\n",
    "    print(f\"\\n{MODELNAME[i]}\\n------------------------------------------------------------------------------\")\n",
    "    print(f\"Min Error: (epoch {min_loss_index}, loss {min_loss:.3f})  |  Max Accuracy: (epoch {max_accuracy_index}, accuracy {max_accuracy} %)\")"
   ]
  },
  {
   "cell_type": "code",
   "execution_count": null,
   "metadata": {},
   "outputs": [],
   "source": [
    "from models.preprocess import classes\n",
    "from models.models import (\n",
    "    ShallowNet,\n",
    "    DeepNet5,\n",
    "    DeepNet10,\n",
    "    SkipConDeep10\n",
    ")\n",
    "\n",
    "Modelclass = [\n",
    "    ShallowNet(),\n",
    "    DeepNet5(),\n",
    "    DeepNet10(),\n",
    "    SkipConDeep10()\n",
    "]"
   ]
  },
  {
   "cell_type": "code",
   "execution_count": null,
   "metadata": {},
   "outputs": [],
   "source": [
    "print(\"<Accuracy of Each Class>\")\n",
    "\n",
    "for i in range(len(Models)):\n",
    "    print(f\"\\n{MODELNAME[i]}\\n--------------------------\")\n",
    "\n",
    "    net = Modelclass[i]\n",
    "    PATH = f'./{MODELNAME[i]}.pth'\n",
    "    net.load_state_dict(torch.load(PATH))\n",
    "\n",
    "    correct_pred = {classname: 0 for classname in classes}\n",
    "    total_pred = {classname: 0 for classname in classes}\n",
    "    with torch.no_grad():\n",
    "        for data in test_loader:\n",
    "            images, labels = data\n",
    "            images = images.to(device)\n",
    "            labels = labels.to(device)\n",
    "            outputs = net(images)\n",
    "            _, predictions = torch.max(outputs, 1)\n",
    "\n",
    "            for label, prediction in zip(labels, predictions):\n",
    "                if label == prediction:\n",
    "                    correct_pred[classes[label]] += 1\n",
    "                total_pred[classes[label]] += 1\n",
    "\n",
    "    for classname, correct_count in correct_pred.items():\n",
    "        accuracy = 100 * float(correct_count) / total_pred[classname]\n",
    "        print(f'{classname:15s}: {accuracy:.1f} %')"
   ]
  }
 ],
 "metadata": {
  "kernelspec": {
   "display_name": "foodimgclassifier-dxhxlWZK-py3.11",
   "language": "python",
   "name": "python3"
  },
  "language_info": {
   "codemirror_mode": {
    "name": "ipython",
    "version": 3
   },
   "file_extension": ".py",
   "mimetype": "text/x-python",
   "name": "python",
   "nbconvert_exporter": "python",
   "pygments_lexer": "ipython3",
   "version": "3.11.9"
  }
 },
 "nbformat": 4,
 "nbformat_minor": 2
}
